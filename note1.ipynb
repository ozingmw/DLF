{
 "cells": [
  {
   "cell_type": "markdown",
   "metadata": {},
   "source": [
    "# 변수\n",
    "+ 임의로 변할 수 있는 수\n",
    "+ x라는 상자안에 데이터를 넣고 데이터는 변할 수 있음"
   ]
  },
  {
   "cell_type": "code",
   "execution_count": 84,
   "metadata": {},
   "outputs": [],
   "source": [
    "import numpy as np\n",
    "\n",
    "# variable 이라는 이름의 박스 설정\n",
    "# data라는 변할 수 있는 수(데이터) 설정\n",
    "class Variable:\n",
    "    def __init__(self, data) -> None:\n",
    "        self.data = data\n",
    "        \n",
    "    # # dezero에선 data가 numpy의 ndarray만 받기때문에 이를 확인하는 코드 추가\n",
    "    # def __init__(self, data: np.ndarray) -> None:\n",
    "    #     self.data = data"
   ]
  },
  {
   "cell_type": "code",
   "execution_count": 85,
   "metadata": {},
   "outputs": [
    {
     "name": "stdout",
     "output_type": "stream",
     "text": [
      "1.0\n"
     ]
    }
   ],
   "source": [
    "data = np.array(1.0)\n",
    "x = Variable(data)\n",
    "print(x.data)"
   ]
  },
  {
   "cell_type": "markdown",
   "metadata": {},
   "source": [
    "차원 측정"
   ]
  },
  {
   "cell_type": "code",
   "execution_count": 86,
   "metadata": {},
   "outputs": [
    {
     "data": {
      "text/plain": [
       "0"
      ]
     },
     "execution_count": 86,
     "metadata": {},
     "output_type": "execute_result"
    }
   ],
   "source": [
    "x.data.ndim"
   ]
  },
  {
   "cell_type": "code",
   "execution_count": 87,
   "metadata": {},
   "outputs": [
    {
     "data": {
      "text/plain": [
       "1"
      ]
     },
     "execution_count": 87,
     "metadata": {},
     "output_type": "execute_result"
    }
   ],
   "source": [
    "np.zeros((2,)).ndim"
   ]
  },
  {
   "cell_type": "code",
   "execution_count": 88,
   "metadata": {},
   "outputs": [
    {
     "data": {
      "text/plain": [
       "2"
      ]
     },
     "execution_count": 88,
     "metadata": {},
     "output_type": "execute_result"
    }
   ],
   "source": [
    "np.zeros((2,3)).ndim"
   ]
  },
  {
   "cell_type": "code",
   "execution_count": 89,
   "metadata": {},
   "outputs": [
    {
     "data": {
      "text/plain": [
       "3"
      ]
     },
     "execution_count": 89,
     "metadata": {},
     "output_type": "execute_result"
    }
   ],
   "source": [
    "np.zeros((2,3,1)).ndim"
   ]
  },
  {
   "cell_type": "markdown",
   "metadata": {},
   "source": [
    "# 함수\n",
    "+ 입력값을 넣으면 함수에 저장된 수식에 따라 출력값을 냄\n",
    "+ x -> function -> y"
   ]
  },
  {
   "cell_type": "code",
   "execution_count": 90,
   "metadata": {},
   "outputs": [],
   "source": [
    "class Function:\n",
    "    def __call__(self, input):\n",
    "        x = input.data\n",
    "        y = x ** 2\n",
    "        output = Variable(y)\n",
    "        return output"
   ]
  },
  {
   "cell_type": "code",
   "execution_count": 91,
   "metadata": {},
   "outputs": [
    {
     "data": {
      "text/plain": [
       "array([[ 1,  4],\n",
       "       [ 9, 16]])"
      ]
     },
     "execution_count": 91,
     "metadata": {},
     "output_type": "execute_result"
    }
   ],
   "source": [
    "f = Function()\n",
    "x = Variable(np.array([[1,2],[3,4]]))\n",
    "y = f(x)\n",
    "y.data"
   ]
  },
  {
   "cell_type": "code",
   "execution_count": 92,
   "metadata": {},
   "outputs": [],
   "source": [
    "# abstractmethod : 추상 메서드\n",
    "from abc import abstractmethod\n",
    "\n",
    "class Function:\n",
    "    def __call__(self, input):\n",
    "        x = input.data\n",
    "        y = x ** 2\n",
    "        output = Variable(y)\n",
    "        return output\n",
    "    \n",
    "    \n",
    "    # abstractmethod하고 raise NotImplementedError()가 똑같은 역할을 함.\n",
    "    @abstractmethod\n",
    "    def forward(self, x):\n",
    "        pass\n",
    "    \n",
    "    def forward(self, x):\n",
    "        raise NotImplementedError()"
   ]
  },
  {
   "cell_type": "code",
   "execution_count": 93,
   "metadata": {},
   "outputs": [],
   "source": [
    "class Square(Function):\n",
    "    def forward(self, x):\n",
    "        return x**3"
   ]
  },
  {
   "cell_type": "code",
   "execution_count": 94,
   "metadata": {},
   "outputs": [
    {
     "data": {
      "text/plain": [
       "array([[ 4,  1],\n",
       "       [16,  9]])"
      ]
     },
     "execution_count": 94,
     "metadata": {},
     "output_type": "execute_result"
    }
   ],
   "source": [
    "f = Square()\n",
    "x = Variable(np.array([[2,1],[4,3]]))\n",
    "y = f(x)\n",
    "y.data"
   ]
  },
  {
   "cell_type": "code",
   "execution_count": 95,
   "metadata": {},
   "outputs": [],
   "source": [
    "class Exp(Function):\n",
    "    def forward(self, x):\n",
    "        return np.exp(x)"
   ]
  },
  {
   "cell_type": "code",
   "execution_count": 96,
   "metadata": {},
   "outputs": [
    {
     "data": {
      "text/plain": [
       "array([[ 4,  1],\n",
       "       [16,  9]])"
      ]
     },
     "execution_count": 96,
     "metadata": {},
     "output_type": "execute_result"
    }
   ],
   "source": [
    "f = Exp()\n",
    "x = Variable(np.array([[2,1],[4,3]]))\n",
    "y = f(x)\n",
    "y.data"
   ]
  },
  {
   "cell_type": "code",
   "execution_count": 97,
   "metadata": {},
   "outputs": [
    {
     "data": {
      "text/plain": [
       "array([[2.5600e-06, 1.0000e-08],\n",
       "       [6.5536e-04, 6.5610e-05]])"
      ]
     },
     "execution_count": 97,
     "metadata": {},
     "output_type": "execute_result"
    }
   ],
   "source": [
    "square = Square()\n",
    "exp = Exp()\n",
    "x = Variable(np.array([[.2,.1],[.4,.3]]))\n",
    "y = square(exp(square(x)))\n",
    "y.data"
   ]
  },
  {
   "cell_type": "markdown",
   "metadata": {},
   "source": [
    "# 수치 미분\n",
    "+ 딥러닝에서 입력값을 계산하고 나온 loss값을 이용하여 weight를 update해야함.\n",
    "+ 이때 weight를 업데이트 하기 위해 미분값이 필요함.\n",
    "+ 오차가 적은 중앙차분을 이용하여 함수 설정"
   ]
  },
  {
   "cell_type": "code",
   "execution_count": 98,
   "metadata": {},
   "outputs": [],
   "source": [
    "def numerical_diff(f, x, eps=1e-4):\n",
    "    x0 = Variable(x.data - eps)\n",
    "    x1 = Variable(x.data + eps)\n",
    "    y0 = f(x0)\n",
    "    y1 = f(x1)\n",
    "    return (y1.data - y0.data) / (2*eps)"
   ]
  },
  {
   "cell_type": "code",
   "execution_count": 99,
   "metadata": {},
   "outputs": [
    {
     "data": {
      "text/plain": [
       "4.000000000004"
      ]
     },
     "execution_count": 99,
     "metadata": {},
     "output_type": "execute_result"
    }
   ],
   "source": [
    "f = Square()\n",
    "x = Variable(np.array(2.0))\n",
    "dy = numerical_diff(f, x)\n",
    "dy"
   ]
  },
  {
   "cell_type": "code",
   "execution_count": 100,
   "metadata": {},
   "outputs": [],
   "source": [
    "def ses(x):\n",
    "    A = Square()\n",
    "    B = Exp()\n",
    "    C = Square()\n",
    "    return C(B(A(x)))"
   ]
  },
  {
   "cell_type": "code",
   "execution_count": 101,
   "metadata": {},
   "outputs": [
    {
     "data": {
      "text/plain": [
       "0.00010240017920003061"
      ]
     },
     "execution_count": 101,
     "metadata": {},
     "output_type": "execute_result"
    }
   ],
   "source": [
    "x = Variable(np.array(.2))\n",
    "dy = numerical_diff(ses, x)\n",
    "dy"
   ]
  },
  {
   "cell_type": "markdown",
   "metadata": {},
   "source": [
    "# 역전파\n",
    "+ 미분을 효율적으로 계산하여 수치 미분보다 계산 속도가 빠르고 정확도가 높다.\n",
    "+ x -> 함수 -> ... -> 함수 -> y에서 dy/dx는 y부터 역순으로 미분한 값의 곱이 된다.\n",
    "+ 이때, 순전파시 입력한 입력값이 필요하다."
   ]
  },
  {
   "cell_type": "markdown",
   "metadata": {},
   "source": [
    "# 함수 정의\n",
    "이후 구현도 한번에 정의"
   ]
  },
  {
   "cell_type": "code",
   "execution_count": 102,
   "metadata": {},
   "outputs": [],
   "source": [
    "import numpy as np\n",
    "\n",
    "class Variable:\n",
    "    def __init__(self, data) -> None:\n",
    "        self.data = data\n",
    "        self.grad = None\n",
    "        self.creator = None\n",
    "        \n",
    "    # creator 설정 함수\n",
    "    def set_creator(self, func):\n",
    "        self.creator = func\n",
    "        \n",
    "    # 역전파 함수\n",
    "    # 재귀적으로 구현\n",
    "    def backward(self):\n",
    "        f = self.creator\n",
    "        if f is not None:\n",
    "            x = f.input_\n",
    "            x.grad = f.backward(self.grad)\n",
    "            x.backward()\n",
    "           \n",
    "    # 역전파 함수를 한번에 하기 위한 함수 \n",
    "    # 재귀로 하는것보다 while문을 사용하여 반복문으로 구현하는게 더 효율적\n",
    "    def backward_list(self):\n",
    "        if self.grad is None:\n",
    "            self.grad = np.ones_like(self.data)\n",
    "            \n",
    "        funcs = [self.creator]\n",
    "        while funcs:\n",
    "            f = funcs.pop()\n",
    "            x, y = f.input_, f.output_\n",
    "            x.grad = f.backward(y.grad)\n",
    "            if x.creator is not None:\n",
    "                funcs.append(x.creator)\n",
    "    \n",
    "class Function:\n",
    "    def __call__(self, input_):\n",
    "        x = input_.data\n",
    "        y = self.forward(x)\n",
    "        output_ = Variable(y)\n",
    "        output_.set_creator(self)\n",
    "        self.input_ = input_\n",
    "        self.output_ = output_\n",
    "        return output_\n",
    "    \n",
    "    def forward(self, x):\n",
    "        raise NotImplementedError()\n",
    "    \n",
    "    def backward(self, gy):\n",
    "        raise NotImplementedError() \n",
    "    \n",
    "    \n",
    "class Square(Function):\n",
    "    def forward(self, x):\n",
    "        return x ** 2\n",
    "    \n",
    "    def backward(self, gy):\n",
    "        x = self.input_.data\n",
    "        gx = 2 * x * gy\n",
    "        return gx\n",
    "\n",
    "class Exp(Function):\n",
    "    def forward(self, x):\n",
    "        return np.exp(x)\n",
    "    \n",
    "    def backward(self, gy):\n",
    "        x = self.input_.data\n",
    "        gx = np.exp(x) * gy\n",
    "        return gx"
   ]
  },
  {
   "cell_type": "markdown",
   "metadata": {},
   "source": [
    "# 수동 순전파, 역전파"
   ]
  },
  {
   "cell_type": "code",
   "execution_count": 103,
   "metadata": {},
   "outputs": [
    {
     "name": "stdout",
     "output_type": "stream",
     "text": [
      "3.297442541400256\n"
     ]
    }
   ],
   "source": [
    "square1 = Square()\n",
    "exp = Exp()\n",
    "square2 = Square()\n",
    "\n",
    "x = Variable(np.array(0.5))\n",
    "a = square1(x)\n",
    "b = exp(a)\n",
    "y = square2(b)\n",
    "\n",
    "y.grad = np.array(1.0)\n",
    "b.grad = square2.backward(y.grad)\n",
    "a.grad = exp.backward(b.grad)\n",
    "x.grad = square1.backward(a.grad)\n",
    "    \n",
    "print(x.grad)"
   ]
  },
  {
   "cell_type": "code",
   "execution_count": 104,
   "metadata": {},
   "outputs": [
    {
     "name": "stdout",
     "output_type": "stream",
     "text": [
      "5.436563656918091\n"
     ]
    }
   ],
   "source": [
    "# x -> exp -> a -> sqaure1 -> y\n",
    "\n",
    "x = Variable(np.array(0.5))\n",
    "a = exp(x)\n",
    "y = square1(a)\n",
    "\n",
    "y.grad = np.array(1.0)\n",
    "a.grad = square1.backward(y.grad)\n",
    "x.grad = exp.backward(a.grad)\n",
    "\n",
    "print(x.grad)"
   ]
  },
  {
   "cell_type": "code",
   "execution_count": 105,
   "metadata": {},
   "outputs": [
    {
     "name": "stdout",
     "output_type": "stream",
     "text": [
      "94.18146788281396\n"
     ]
    }
   ],
   "source": [
    "# x -> square1 -> a -> exp -> b -> exp -> c -> square2 -> y\n",
    "\n",
    "x = Variable(np.array(0.5))\n",
    "y = square2(exp(exp(square1(x))))\n",
    "\n",
    "y.grad = np.array(1.0)\n",
    "x.grad = square1.backward(exp.backward(exp.backward(square2.backward(y.grad))))\n",
    "\n",
    "print(x.grad)"
   ]
  },
  {
   "cell_type": "markdown",
   "metadata": {},
   "source": [
    "# creator\n",
    "+ creator를 설정하여 변수와 함수의 동적 연결을 함.\n",
    "+ 따라서 output을 통해 함수를 호출할 수 있고 이에 따라 역전파를 진행할 수 있게함\n",
    "\n",
    "# 자동 역전파, Variable Creator 구현 테스트\n",
    "+ define-by-run : 계산 그래프가 자동으로 생성되는 방식\n",
    "+ define-and-run : tensorflow의 session처럼 설계를 하고 코드를 실행해야 되는 방식"
   ]
  },
  {
   "cell_type": "code",
   "execution_count": 106,
   "metadata": {},
   "outputs": [],
   "source": [
    "square1 = Square()\n",
    "exp = Exp()\n",
    "square2 = Square()\n",
    "\n",
    "x = Variable(np.array(0.5))\n",
    "a = square1(x)\n",
    "b = exp(a)\n",
    "y = square2(b)"
   ]
  },
  {
   "cell_type": "code",
   "execution_count": 107,
   "metadata": {},
   "outputs": [],
   "source": [
    "# y의 creator는 square2\n",
    "assert y.creator == square2"
   ]
  },
  {
   "cell_type": "code",
   "execution_count": 108,
   "metadata": {},
   "outputs": [
    {
     "ename": "AssertionError",
     "evalue": "",
     "output_type": "error",
     "traceback": [
      "\u001b[0;31m---------------------------------------------------------------------------\u001b[0m",
      "\u001b[0;31mAssertionError\u001b[0m                            Traceback (most recent call last)",
      "Cell \u001b[0;32mIn[108], line 2\u001b[0m\n\u001b[1;32m      1\u001b[0m \u001b[38;5;66;03m# square2의 creator는 exp 이므로 y.creator가 아님\u001b[39;00m\n\u001b[0;32m----> 2\u001b[0m \u001b[38;5;28;01massert\u001b[39;00m y\u001b[38;5;241m.\u001b[39mcreator \u001b[38;5;241m==\u001b[39m exp\n",
      "\u001b[0;31mAssertionError\u001b[0m: "
     ]
    }
   ],
   "source": [
    "# square2의 creator는 exp 이므로 y.creator가 아님\n",
    "assert y.creator == exp"
   ]
  },
  {
   "cell_type": "code",
   "execution_count": 109,
   "metadata": {},
   "outputs": [],
   "source": [
    "assert y.creator.input_ == b"
   ]
  },
  {
   "cell_type": "code",
   "execution_count": 110,
   "metadata": {},
   "outputs": [
    {
     "ename": "AssertionError",
     "evalue": "",
     "output_type": "error",
     "traceback": [
      "\u001b[0;31m---------------------------------------------------------------------------\u001b[0m",
      "\u001b[0;31mAssertionError\u001b[0m                            Traceback (most recent call last)",
      "Cell \u001b[0;32mIn[110], line 1\u001b[0m\n\u001b[0;32m----> 1\u001b[0m \u001b[38;5;28;01massert\u001b[39;00m y\u001b[38;5;241m.\u001b[39mcreator\u001b[38;5;241m.\u001b[39minput_ \u001b[38;5;241m==\u001b[39m a\n",
      "\u001b[0;31mAssertionError\u001b[0m: "
     ]
    }
   ],
   "source": [
    "assert y.creator.input_ == a"
   ]
  },
  {
   "cell_type": "code",
   "execution_count": 111,
   "metadata": {},
   "outputs": [],
   "source": [
    "assert b.creator == exp"
   ]
  },
  {
   "cell_type": "code",
   "execution_count": 112,
   "metadata": {},
   "outputs": [],
   "source": [
    "assert b.creator.input_ == a"
   ]
  },
  {
   "cell_type": "code",
   "execution_count": 114,
   "metadata": {},
   "outputs": [],
   "source": [
    "assert y.creator.input_.creator.input_ == a"
   ]
  },
  {
   "cell_type": "markdown",
   "metadata": {},
   "source": [
    "# 자동 역전파, creator 역전파 구현"
   ]
  },
  {
   "cell_type": "code",
   "execution_count": 115,
   "metadata": {},
   "outputs": [
    {
     "data": {
      "text/plain": [
       "2.568050833375483"
      ]
     },
     "execution_count": 115,
     "metadata": {},
     "output_type": "execute_result"
    }
   ],
   "source": [
    "y.grad = np.array(1.0)\n",
    "square2 = y.creator\n",
    "b = square2.input_\n",
    "b.grad = square2.backward(y.grad)\n",
    "b.grad"
   ]
  },
  {
   "cell_type": "code",
   "execution_count": 116,
   "metadata": {},
   "outputs": [
    {
     "data": {
      "text/plain": [
       "3.297442541400256"
      ]
     },
     "execution_count": 116,
     "metadata": {},
     "output_type": "execute_result"
    }
   ],
   "source": [
    "exp = b.creator\n",
    "a = exp.input_\n",
    "a.grad = exp.backward(b.grad)\n",
    "a.grad"
   ]
  },
  {
   "cell_type": "code",
   "execution_count": 117,
   "metadata": {},
   "outputs": [
    {
     "data": {
      "text/plain": [
       "3.297442541400256"
      ]
     },
     "execution_count": 117,
     "metadata": {},
     "output_type": "execute_result"
    }
   ],
   "source": [
    "square1 = a.creator\n",
    "x = square1.input_\n",
    "x.grad = square1.backward(a.grad)\n",
    "x.grad"
   ]
  },
  {
   "cell_type": "markdown",
   "metadata": {},
   "source": [
    "# variable class안에 backward 추가하여 한번에 재귀적으로 모든 backward를 구하기"
   ]
  },
  {
   "cell_type": "code",
   "execution_count": 118,
   "metadata": {},
   "outputs": [
    {
     "data": {
      "text/plain": [
       "3.297442541400256"
      ]
     },
     "execution_count": 118,
     "metadata": {},
     "output_type": "execute_result"
    }
   ],
   "source": [
    "square1 = Square()\n",
    "exp = Exp()\n",
    "square2 = Square()\n",
    "\n",
    "x = Variable(np.array(0.5))\n",
    "y = square2(exp(square1(x)))\n",
    "\n",
    "y.grad = np.array(1.0)\n",
    "\n",
    "y.backward()\n",
    "x.grad"
   ]
  },
  {
   "cell_type": "code",
   "execution_count": 119,
   "metadata": {},
   "outputs": [
    {
     "data": {
      "text/plain": [
       "3.297442541400256"
      ]
     },
     "execution_count": 119,
     "metadata": {},
     "output_type": "execute_result"
    }
   ],
   "source": [
    "square1 = Square()\n",
    "exp = Exp()\n",
    "square2 = Square()\n",
    "\n",
    "x = Variable(np.array(0.5))\n",
    "y = square2(exp(square1(x)))\n",
    "\n",
    "y.grad = np.array(1.0)\n",
    "\n",
    "y.backward_list()\n",
    "x.grad"
   ]
  },
  {
   "cell_type": "markdown",
   "metadata": {},
   "source": [
    "# 추가 개선사항\n",
    "+ np.ones_like 사용\n",
    "+ exp, square 클래스를 함수로 바로 사용할 수 있게 함수화"
   ]
  },
  {
   "cell_type": "code",
   "execution_count": 120,
   "metadata": {},
   "outputs": [
    {
     "data": {
      "text/plain": [
       "3.297442541400256"
      ]
     },
     "execution_count": 120,
     "metadata": {},
     "output_type": "execute_result"
    }
   ],
   "source": [
    "def exp(x):\n",
    "    return Exp()(x)\n",
    "\n",
    "def square(x):\n",
    "    return Square()(x)\n",
    "\n",
    "x = Variable(np.array(0.5))\n",
    "y = square(exp(square(x)))\n",
    "\n",
    "y.backward_list()\n",
    "x.grad"
   ]
  },
  {
   "cell_type": "markdown",
   "metadata": {},
   "source": [
    "---"
   ]
  },
  {
   "cell_type": "markdown",
   "metadata": {},
   "source": [
    "+ 궁금한 내용 중간중간 코드로 해결\n",
    "+ creator, input_으로 y에서 x값을 가져올수 있는데 의미 있는 것인가? -> 역전파도 순서대로 하기때문에 의미 없는것같다."
   ]
  }
 ],
 "metadata": {
  "kernelspec": {
   "display_name": "school",
   "language": "python",
   "name": "python3"
  },
  "language_info": {
   "codemirror_mode": {
    "name": "ipython",
    "version": 3
   },
   "file_extension": ".py",
   "mimetype": "text/x-python",
   "name": "python",
   "nbconvert_exporter": "python",
   "pygments_lexer": "ipython3",
   "version": "3.11.8"
  }
 },
 "nbformat": 4,
 "nbformat_minor": 2
}
